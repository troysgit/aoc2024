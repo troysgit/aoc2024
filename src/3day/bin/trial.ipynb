{
 "cells": [
  {
   "cell_type": "code",
   "execution_count": null,
   "id": "32911d4b-f866-48c8-899b-fb22c7413f52",
   "metadata": {},
   "outputs": [],
   "source": [
    "word = \"xmul(2,4)&mul[3,7]!^don't()_mul(5,5)+mul(32,64](mul(11,8)undo()?mul(8,5))\"\n",
    "cnt = 0\n",
    "\n",
    "for i in range(len(word)):\n",
    "    init = word[i:]\n",
    "\n",
    "    if not init.startswith('mul('):\n",
    "        continue\n",
    "    init = init[4:]\n",
    "\n",
    "    try:\n",
    "        sub = init.split(')',1)[0]\n",
    "        a,b = map(int, sub.split(','))\n",
    "        cnt += a*b\n",
    "    except:\n",
    "        continue\n",
    "print(cnt)"
   ]
  },
  {
   "cell_type": "code",
   "execution_count": 26,
   "id": "e185cccb-1405-4ac9-ba82-254232e26f61",
   "metadata": {},
   "outputs": [
    {
     "name": "stdout",
     "output_type": "stream",
     "text": [
      "161\n"
     ]
    }
   ],
   "source": [
    "# use enumerate() \n",
    "word = \"xmul(2,4)&mul[3,7]!^don't()_mul(5,5)+mul(32,64](mul(11,8)undo()?mul(8,5))\"\n",
    "cnt = 0\n",
    "\n",
    "for i, _ in enumerate(word):\n",
    "    if word[i:i+4] == \"mul(\":\n",
    "        try:\n",
    "            sub = word[i+4:].split(')',1)[0]\n",
    "            a,b = map(int, sub.split(','))\n",
    "            cnt += a*b\n",
    "        except:\n",
    "            continue\n",
    "print(cnt)"
   ]
  },
  {
   "cell_type": "code",
   "execution_count": 17,
   "id": "526c6e6d-8e22-4e62-a8d7-e39bd7dee16f",
   "metadata": {},
   "outputs": [
    {
     "data": {
      "text/plain": [
       "8"
      ]
     },
     "execution_count": 17,
     "metadata": {},
     "output_type": "execute_result"
    }
   ],
   "source": [
    "a"
   ]
  },
  {
   "cell_type": "code",
   "execution_count": 18,
   "id": "1ed8c4d0-02d1-4187-ac13-4119af78d827",
   "metadata": {},
   "outputs": [
    {
     "data": {
      "text/plain": [
       "5"
      ]
     },
     "execution_count": 18,
     "metadata": {},
     "output_type": "execute_result"
    }
   ],
   "source": [
    "b"
   ]
  },
  {
   "cell_type": "code",
   "execution_count": null,
   "id": "9a37814b-5dc7-41d8-bfcd-004fad81936b",
   "metadata": {},
   "outputs": [],
   "source": []
  }
 ],
 "metadata": {
  "kernelspec": {
   "display_name": "Python 3 (ipykernel)",
   "language": "python",
   "name": "python3"
  },
  "language_info": {
   "codemirror_mode": {
    "name": "ipython",
    "version": 3
   },
   "file_extension": ".py",
   "mimetype": "text/x-python",
   "name": "python",
   "nbconvert_exporter": "python",
   "pygments_lexer": "ipython3",
   "version": "3.10.12"
  }
 },
 "nbformat": 4,
 "nbformat_minor": 5
}
