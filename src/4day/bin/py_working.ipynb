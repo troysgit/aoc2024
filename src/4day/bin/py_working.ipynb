{
 "cells": [
  {
   "cell_type": "code",
   "execution_count": 2,
   "id": "4c56bfa9-f04e-4ad7-88eb-5cb60a2fc539",
   "metadata": {},
   "outputs": [
    {
     "name": "stdout",
     "output_type": "stream",
     "text": [
      "AXSASXXMASAMXMXSASMMXMSAMXMXXMASMXMXMSMSMXMAXMSMSMSMXXMXMXMASXMASXMXSXSASXSXSSSSSSMSSMXMAASAMXXSSSMMXMMMSXSAXMASXMMXSXMAXSAMXAMXXMASMMXXSAXS\n",
      "\n",
      "SXXAAMAXMAXMAAAXXMAXAXSMXAMMMMSMMMMAMAMAMSMSMXAAAAASAMMAMXMASAMXMASXSAMXMAAAMAAAAXXAAMSSMXMAXMAMAAXSASAAMMAMSAAXSASASASAMXSXMXSAMMAMAMSSMSAA\n",
      "\n"
     ]
    }
   ],
   "source": [
    "with open('4.txt') as file:\n",
    "    for idx,line in enumerate(file):\n",
    "        if idx == 0 or idx == 1:\n",
    "            print(line)"
   ]
  },
  {
   "cell_type": "code",
   "execution_count": 28,
   "id": "1d220f18-04d2-4e47-ad8e-08547464032f",
   "metadata": {},
   "outputs": [],
   "source": [
    "def in_grid(grid, x, y):\n",
    "    return x in range(len(grid[0])) and y in range(len(grid))"
   ]
  },
  {
   "cell_type": "code",
   "execution_count": 22,
   "id": "2bce2e47-34e7-4af9-a51d-d3b360875493",
   "metadata": {},
   "outputs": [
    {
     "name": "stdout",
     "output_type": "stream",
     "text": [
      "140\n",
      "A\n"
     ]
    }
   ],
   "source": [
    "with open('4.txt') as file:\n",
    "    grid = []\n",
    "    for line in file:\n",
    "        temp = [i for i in line if i != '\\n']\n",
    "        # if idx == 0 or idx == 1:\n",
    "        #     print(line)\n",
    "        grid.append(temp)\n",
    "    print(len(grid))\n",
    "    print(grid[0][0]) # grid[y][x]"
   ]
  },
  {
   "cell_type": "code",
   "execution_count": 30,
   "id": "c86f4c88-c060-4c2c-95cf-56fc1e9b828f",
   "metadata": {},
   "outputs": [],
   "source": [
    "search_positions = [(-1,-1), (0,-1), (1,-1), (-1,0), (0,0), (1,0), (-1,1), (0,1), (1,1)]"
   ]
  },
  {
   "cell_type": "code",
   "execution_count": 32,
   "id": "aa70edce-9ae3-4f91-9bb7-2180c7805324",
   "metadata": {},
   "outputs": [],
   "source": [
    "search_string = ['X', 'M', 'A', 'S']"
   ]
  },
  {
   "cell_type": "code",
   "execution_count": 85,
   "id": "3411ca06-9e6e-40cc-bb03-9a8128730a44",
   "metadata": {},
   "outputs": [],
   "source": [
    "def search_grid(grid, x, y, search_letter = 0):\n",
    "    if search_letter == 3:\n",
    "        return 1\n",
    "    else:\n",
    "        search_positions = [(-1,-1), (0,-1), (1,-1), (-1,0), (0,0), (1,0), (-1,1), (0,1), (1,1)]\n",
    "        search_string = ['X', 'M', 'A', 'S']\n",
    "        cur = search_string[search_letter%len(search_string)]\n",
    "        for dx, dy in search_positions:\n",
    "            new_x, new_y =  x + dx,y + dy\n",
    "            if in_grid(grid, new_x, new_y):\n",
    "                if grid[new_y][new_x] == cur:\n",
    "                    # print(grid[new_y][new_x])\n",
    "                    search_letter = (search_letter + 1) % 4\n",
    "                    return search_grid(grid, new_x, new_y, search_letter)\n",
    "\n",
    "all_solutions = []\n",
    "for y in range(len(grid)):\n",
    "    for x in range(len(grid[0])):\n",
    "        res = search_grid(grid, x, y)\n",
    "        # print(res)\n",
    "        # if res:\n",
    "        all_solutions.append(res)        "
   ]
  },
  {
   "cell_type": "code",
   "execution_count": 68,
   "id": "7157e7e2-131d-48be-a80b-da3efb8ef847",
   "metadata": {},
   "outputs": [],
   "source": [
    "all_solutions = []\n",
    "for y in range(len(grid)):\n",
    "    for x in range(len(grid[0])):\n",
    "        res = search_grid(grid, x, y)\n",
    "        # print(res)\n",
    "        if res:\n",
    "            all_solutions.append(res)        \n",
    "sum(all_solutions)"
   ]
  },
  {
   "cell_type": "code",
   "execution_count": 89,
   "id": "53cb6fe8-df58-4c22-a52f-05fa47543182",
   "metadata": {},
   "outputs": [
    {
     "data": {
      "text/plain": [
       "16211"
      ]
     },
     "execution_count": 89,
     "metadata": {},
     "output_type": "execute_result"
    }
   ],
   "source": [
    "len([i for i in all_solutions if i == 1])"
   ]
  },
  {
   "cell_type": "code",
   "execution_count": 72,
   "id": "abd6abc7-073a-4e6f-bc91-93c9fe2cfcd5",
   "metadata": {},
   "outputs": [
    {
     "data": {
      "text/plain": [
       "'h'"
      ]
     },
     "execution_count": 72,
     "metadata": {},
     "output_type": "execute_result"
    }
   ],
   "source": [
    "word = ['h','i','p']\n",
    "word[3%len(word)]"
   ]
  },
  {
   "cell_type": "code",
   "execution_count": 91,
   "id": "44a6d37d-f4cc-4c61-9d7b-bc28ca2e2776",
   "metadata": {},
   "outputs": [
    {
     "name": "stdin",
     "output_type": "stream",
     "text": [
      " MMMSXXMASM\n",
      " MSAMXMSMSA\n",
      " AMXSXMAAMM\n",
      " MSAMASMSMX\n",
      " XMASAMXAMM\n",
      " XXAMMXXAMA\n",
      " SMSMSASXSS\n",
      " SAXAMASAAA\n",
      " MAMMMXMMMM\n",
      " MXMXAXMASX\n"
     ]
    }
   ],
   "source": [
    "trial_inp = []\n",
    "for i in range(10):\n",
    "    temp = [i for i in input().split()]\n",
    "    trial_inp.append(temp)"
   ]
  },
  {
   "cell_type": "code",
   "execution_count": 92,
   "id": "63ecf8d2-df4a-4e56-9d77-df89d80c6ce3",
   "metadata": {},
   "outputs": [
    {
     "data": {
      "text/plain": [
       "[['MMMSXXMASM'],\n",
       " ['MSAMXMSMSA'],\n",
       " ['AMXSXMAAMM'],\n",
       " ['MSAMASMSMX'],\n",
       " ['XMASAMXAMM'],\n",
       " ['XXAMMXXAMA'],\n",
       " ['SMSMSASXSS'],\n",
       " ['SAXAMASAAA'],\n",
       " ['MAMMMXMMMM'],\n",
       " ['MXMXAXMASX']]"
      ]
     },
     "execution_count": 92,
     "metadata": {},
     "output_type": "execute_result"
    }
   ],
   "source": [
    "trial_inp"
   ]
  },
  {
   "cell_type": "code",
   "execution_count": 95,
   "id": "91d91a4a-33b6-408a-8091-e3fee4ab5a8e",
   "metadata": {},
   "outputs": [],
   "source": [
    "trial_lists = [list(i) for i in trial_inp for each in i]"
   ]
  },
  {
   "cell_type": "code",
   "execution_count": 100,
   "id": "0f833d67-dc2b-4bb1-90e2-b27845ba7b59",
   "metadata": {},
   "outputs": [],
   "source": [
    "final_try = []\n",
    "for each in trial_inp:\n",
    "    for i in each:\n",
    "        final_try.append(list(i))"
   ]
  },
  {
   "cell_type": "code",
   "execution_count": 117,
   "id": "3db2c648-fadd-4cb9-a116-8400729882c8",
   "metadata": {},
   "outputs": [],
   "source": [
    "G = final_try"
   ]
  },
  {
   "cell_type": "code",
   "execution_count": 102,
   "id": "604cc32c-1dd4-4726-9b60-f1dcca8fc629",
   "metadata": {},
   "outputs": [
    {
     "data": {
      "text/plain": [
       "79"
      ]
     },
     "execution_count": 102,
     "metadata": {},
     "output_type": "execute_result"
    }
   ],
   "source": [
    "all_solutions = []\n",
    "for y in range(len(final_try)):\n",
    "    for x in range(len(final_try[0])):\n",
    "        res = search_grid(final_try, x, y)\n",
    "        # print(res)\n",
    "        if res:\n",
    "            all_solutions.append(res)        \n",
    "sum(all_solutions)"
   ]
  },
  {
   "cell_type": "code",
   "execution_count": 120,
   "id": "08e79e24-56b2-40b6-831a-295ed093dd0e",
   "metadata": {},
   "outputs": [
    {
     "name": "stdout",
     "output_type": "stream",
     "text": [
      "2545\n",
      "1886\n"
     ]
    }
   ],
   "source": [
    "# 4HbQ Python answer on AoC reddit thread\n",
    "from collections import defaultdict\n",
    "\n",
    "G = defaultdict(str) | {(i,j):c for i,r in enumerate(open('4.txt'))\n",
    "                                for j,c in enumerate(r)}\n",
    "g = list(G.keys())\n",
    "D = -1,0,1\n",
    "\n",
    "T = list('XMAS'),\n",
    "print(sum([G[i+di*n, j+dj*n] for n in range(4)] in T\n",
    "                for di in D for dj in D for i,j in g))\n",
    "\n",
    "T = list('MAS'), list('SAM')\n",
    "print(sum([G[i+d, j+d] for d in D] in T\n",
    "      and [G[i+d, j-d] for d in D] in T for i,j in g))"
   ]
  }
 ],
 "metadata": {
  "kernelspec": {
   "display_name": "Python 3 (ipykernel)",
   "language": "python",
   "name": "python3"
  },
  "language_info": {
   "codemirror_mode": {
    "name": "ipython",
    "version": 3
   },
   "file_extension": ".py",
   "mimetype": "text/x-python",
   "name": "python",
   "nbconvert_exporter": "python",
   "pygments_lexer": "ipython3",
   "version": "3.10.12"
  }
 },
 "nbformat": 4,
 "nbformat_minor": 5
}
