{
 "cells": [
  {
   "cell_type": "code",
   "execution_count": 68,
   "id": "a00d626e-6566-41c5-b861-bf1cd17ee1a7",
   "metadata": {},
   "outputs": [
    {
     "name": "stdout",
     "output_type": "stream",
     "text": [
      "1830467\n"
     ]
    }
   ],
   "source": [
    "with open(\"1.txt\", 'r') as file:\n",
    "    vec = [int(i) for i in file.read().split()]\n",
    "    print(part_one(vec))"
   ]
  },
  {
   "cell_type": "code",
   "execution_count": 69,
   "id": "cd2cfb6b-20c5-47c2-a24e-9a094dbbe80e",
   "metadata": {},
   "outputs": [],
   "source": [
    "def part_one(inp_list: list) -> int: \n",
    "    evens, odds = inp_list[::2], inp_list[1::2]\n",
    "    evens.sort(), odds.sort()\n",
    "    return sum([abs(a-b) for a,b in zip(evens, odds)])"
   ]
  },
  {
   "cell_type": "code",
   "execution_count": 66,
   "id": "01b38b3a-3347-44dc-b071-8a896e925b3b",
   "metadata": {},
   "outputs": [],
   "source": [
    "with open(\"sample.txt\", 'r') as file:\n",
    "    input_data = [int(i) for i in file.read().split()]\n",
    "    assert(part_one(input_data)) == 11, \"11\""
   ]
  },
  {
   "cell_type": "code",
   "execution_count": null,
   "id": "377971b4-c49f-4068-9088-220cc72a7fd6",
   "metadata": {},
   "outputs": [],
   "source": []
  }
 ],
 "metadata": {
  "kernelspec": {
   "display_name": "Python 3 (ipykernel)",
   "language": "python",
   "name": "python3"
  },
  "language_info": {
   "codemirror_mode": {
    "name": "ipython",
    "version": 3
   },
   "file_extension": ".py",
   "mimetype": "text/x-python",
   "name": "python",
   "nbconvert_exporter": "python",
   "pygments_lexer": "ipython3",
   "version": "3.10.12"
  }
 },
 "nbformat": 4,
 "nbformat_minor": 5
}
