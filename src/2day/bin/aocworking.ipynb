{
 "cells": [
  {
   "cell_type": "code",
   "execution_count": 6,
   "id": "233044f6-4bad-479d-9446-c40eec8d654b",
   "metadata": {},
   "outputs": [
    {
     "name": "stdout",
     "output_type": "stream",
     "text": [
      "306\n"
     ]
    }
   ],
   "source": [
    "with open('2.txt') as file: \n",
    "    ans = 0 \n",
    "    for line in file:\n",
    "        \n",
    "        temp = [int(i) for i in line.split()]\n",
    "        init_diff = temp[1] - temp[0]\n",
    "        incr = True\n",
    "        decr = True\n",
    "        \n",
    "        if init_diff > 0 and init_diff < 4: \n",
    "            #increasing\n",
    "            for i in range(1, len(temp)-1):    \n",
    "                if temp[i+1]-temp[i] > 3 or temp[i+1]-temp[i] <= 0:\n",
    "                    incr = False\n",
    "            if incr == True:\n",
    "                # print(f\"increasing {temp}\")\n",
    "                ans += 1\n",
    "            \n",
    "        elif init_diff < 0 and init_diff > -4:\n",
    "            #decreasing\n",
    "            for i in range(1, len(temp)-1):\n",
    "                if temp[i]-temp[i+1] > 3 or temp[i]-temp[i+1] <= 0:\n",
    "                    decr = False\n",
    "            \n",
    "            if decr == True:\n",
    "                # print(f\"decreasing {temp}\")\n",
    "                ans += 1\n",
    "        else:\n",
    "            if init_diff >=1 and init_diff <= 3:\n",
    "                print(init_diff)\n",
    "    print(ans)"
   ]
  },
  {
   "cell_type": "code",
   "execution_count": 43,
   "id": "9e589586-077e-44a1-86bf-a59347abfbb5",
   "metadata": {},
   "outputs": [],
   "source": [
    "# Seems like a recursive problem -> some helper functions\n",
    "# def valid_incr(nums, idx=0):\n",
    "#     if idx >= len(nums)-1:\n",
    "#         return True\n",
    "#     if not(1 <= nums[idx+1] - nums[idx] <= 3):\n",
    "#         return False\n",
    "#     return valid_incr(nums, idx+1)\n",
    "\n",
    "# def valid_decr(nums, idx=0):\n",
    "#     if idx >= len(nums)-1:\n",
    "#         return True\n",
    "#     if not(1 <= nums[idx] - nums[idx+1] <= 3):\n",
    "#         return False\n",
    "#     return valid_decr(nums, idx+1)\n",
    "# def valid_incr(nums):\n",
    "#     for lis,boo in nums:\n",
    "#         for idx,val in enumerate(lis): \n",
    "#             if not (1 <= lis[idx+1] - val <= 3):\n",
    "#                 return False\n",
    "#         return True\n",
    "\n",
    "# def valid_decr(nums):\n",
    "#     for lis,boo in nums:\n",
    "#         for idx,val in enumerate(lis): \n",
    "#             if not (1 <= val - lis[idx+1] <= 3):\n",
    "#                 return False\n",
    "#         return True"
   ]
  },
  {
   "cell_type": "code",
   "execution_count": 44,
   "id": "cc295ff7-4793-4466-8291-0c2c8f54be40",
   "metadata": {},
   "outputs": [
    {
     "name": "stdout",
     "output_type": "stream",
     "text": [
      "0 [7, 6, 4, 2, 1]\n",
      "1 True\n"
     ]
    }
   ],
   "source": [
    "# for idx, val in enumerate(trial[0]):\n",
    "#     print(idx,val)"
   ]
  },
  {
   "cell_type": "markdown",
   "id": "81c046f5-3788-4ab5-8185-2240d09b9fa7",
   "metadata": {},
   "source": [
    "structure = []\n",
    "for i in range(6):\n",
    "    structure.append([int(i) for i in input().split()])"
   ]
  },
  {
   "cell_type": "markdown",
   "id": "3d5a774f-d2fc-4dba-b290-55e4aa4ad04e",
   "metadata": {},
   "source": [
    "ans = 0 \n",
    "for temp in structure:\n",
    "    # temp = [int(i) for i in line.split()]\n",
    "    init_diff = temp[1] - temp[0]\n",
    "    # print(f\" initial diffence = {init_diff}\")\n",
    "    incr = True\n",
    "    decr = True\n",
    "    if init_diff > 0 and init_diff < 4: \n",
    "        #increasing\n",
    "        for i in range(1, len(temp)-1):\n",
    "            #print(f\" Increasing branch - Val at i is: {temp[i+1]} and at i+1 is:{temp[i]} and  diff is: {temp[i+1]-temp[i]} something here\")\n",
    "            if temp[i+1]-temp[i] > 3 or temp[i+1]-temp[i] <= 0:\n",
    "                incr = False\n",
    "        if incr == True:\n",
    "            print(f\"increasing {temp}\")\n",
    "            ans += 1\n",
    "        # print(\"Safe increasing\")\n",
    "    elif init_diff < 0 and init_diff > -4:\n",
    "        #decreasing\n",
    "        for i in range(1, len(temp)-1):\n",
    "            #print(f\" Decreasing branch - Val at i is: {temp[i]} and at i+1 is:{temp[i+1]} and  diff is: {temp[i]-temp[i+1]} something here\")\n",
    "            if temp[i]-temp[i+1] > 3 or temp[i]-temp[i+1] <= 0:\n",
    "                decr = False\n",
    "        # print(\"Safe decreasing\")\n",
    "        if decr == True:\n",
    "            print(f\"decreasing {temp}\")\n",
    "            ans += 1\n",
    "    else:\n",
    "        if init_diff >=1 and init_diff <= 3:\n",
    "            print(init_diff)\n",
    "        # print(\"Nope\")\n",
    "        # print(temp)\n",
    "print(ans)"
   ]
  },
  {
   "cell_type": "code",
   "execution_count": 53,
   "id": "914a3ad6-b3d8-44db-9037-69fd901ba4b4",
   "metadata": {},
   "outputs": [],
   "source": [
    "# Part 1 functions\n",
    "def valid_incr(nums) -> bool:\n",
    "    for i in range(len(nums)-1):\n",
    "        if not (1 <= nums[i+1] - nums[i] <= 3):\n",
    "            return False\n",
    "    return True\n",
    "\n",
    "def valid_decr(nums) -> bool:\n",
    "    for i in range(len(nums)-1):\n",
    "        if not (1 <= nums[i] - nums[i+1] <= 3):\n",
    "            return False\n",
    "    return True"
   ]
  },
  {
   "cell_type": "code",
   "execution_count": 67,
   "id": "f1d86784-2574-4e2e-b1eb-ee3a17e639c6",
   "metadata": {},
   "outputs": [
    {
     "name": "stdout",
     "output_type": "stream",
     "text": [
      "[2, 3, 4, 5]\n",
      "[1, 3, 4, 5]\n",
      "[1, 2, 4, 5]\n",
      "[1, 2, 3, 5]\n",
      "[1, 2, 3, 4]\n"
     ]
    }
   ],
   "source": [
    "my = [1,2,3,4,5]\n",
    "for i in range(len(my)):\n",
    "    print(my[:i]+my[i+1:])"
   ]
  },
  {
   "cell_type": "code",
   "execution_count": 79,
   "id": "76ff3f80-e801-4ea9-bcd8-159e2727ddba",
   "metadata": {},
   "outputs": [],
   "source": [
    "def part_two_processer_incr(nums):\n",
    "    ret_list = []\n",
    "    rule_breaks = 0\n",
    "    for i in range(len(nums)-1):\n",
    "        if not (1 <= nums[i+1] - nums[i] <= 3):\n",
    "            # return False\n",
    "            rule_breaks += 1\n",
    "    # if rule_breaks == 0:\n",
    "        # return True\n",
    "    if rule_breaks == 1:\n",
    "        ret_list.append(nums)\n",
    "    \n",
    "    rule_breaks = 0\n",
    "    for i in range(len(nums)-1):\n",
    "        if not (1 <= nums[i] - nums[i+1] <= 3):\n",
    "            # return False\n",
    "            rule_breaks += 1\n",
    "    # if rule_breaks == 0:\n",
    "        # return True\n",
    "    if rule_breaks == 1:\n",
    "        ret_list.append(nums)\n",
    "    return ret_list"
   ]
  },
  {
   "cell_type": "code",
   "execution_count": null,
   "id": "e1104bc8-7cd5-4039-9c22-5db41f58aa4b",
   "metadata": {},
   "outputs": [],
   "source": []
  },
  {
   "cell_type": "code",
   "execution_count": 75,
   "id": "e52b872c-ab67-4415-bed3-bd292b60411c",
   "metadata": {},
   "outputs": [],
   "source": [
    "# Part 2 functions\n",
    "def p2_valid_incr(nums) -> bool:\n",
    "    rule_breaks = 0\n",
    "    for i in range(len(nums)-1):\n",
    "        if not (1 <= nums[i+1] - nums[i] <= 3):\n",
    "            # return False\n",
    "            rule_breaks += 1\n",
    "    if rule_breaks == 0:\n",
    "        return True\n",
    "    elif rule_breaks == 1:\n",
    "        # can I sub out one to make a valid seq?\n",
    "        for i in range(len(nums)):\n",
    "            # ans = [True]*len(nums)\n",
    "            sub_nums = nums[:i] + nums[i+1:]\n",
    "            if valid_incr(sub_nums) == True or valid_decr(sub_nums) == True:\n",
    "                return True\n",
    "            else:\n",
    "                return False\n",
    "    else:\n",
    "        return False\n",
    "\n",
    "def p2_valid_decr(nums) -> bool:\n",
    "    rule_breaks = 0\n",
    "    for i in range(len(nums)-1):\n",
    "        if not (1 <= nums[i] - nums[i+1] <= 3):\n",
    "            # return False\n",
    "            rule_breaks += 1\n",
    "    if rule_breaks == 0:\n",
    "        return True\n",
    "    elif rule_breaks == 1:\n",
    "        \n",
    "        for i in range(len(nums)):\n",
    "            sub_nums = nums[:i] + nums[i+1:]\n",
    "            if valid_decr(sub_nums) == True or valid_incr(sub_nums) == True:\n",
    "                return True\n",
    "            else:\n",
    "                return False\n",
    "    else:\n",
    "        return False"
   ]
  },
  {
   "cell_type": "code",
   "execution_count": 76,
   "id": "7fdc5c35-0bf8-4d9a-ba02-6f03cec8fa7e",
   "metadata": {},
   "outputs": [
    {
     "name": "stdout",
     "output_type": "stream",
     "text": [
      "True\n",
      "False\n"
     ]
    }
   ],
   "source": [
    "print(p2_valid_decr([7,6,4,2,1]))\n",
    "print(p2_valid_incr([1,2,4,6,10]))"
   ]
  },
  {
   "cell_type": "markdown",
   "id": "8b822efb-f00a-4297-914e-848f65227b7c",
   "metadata": {},
   "source": [
    "# Part 2"
   ]
  },
  {
   "cell_type": "code",
   "execution_count": 12,
   "id": "29d77cf7-bba9-4048-af0a-84670ce89f0f",
   "metadata": {},
   "outputs": [],
   "source": [
    "def valid(nums):\n",
    "    last, last_diff, res, potential = 0,0,True,True\n",
    "    for idx, val in enumerate(nums):\n",
    "        if idx == 0:\n",
    "            last = val\n",
    "        else:\n",
    "            if not res:\n",
    "                break\n",
    "            diff = val - last\n",
    "            if (diff < 0 and last_diff > 0) or (last_diff < 0 and diff > 0):\n",
    "                res = False\n",
    "            elif abs(diff) < 1 or abs(diff) > 3:\n",
    "                res = False\n",
    "            if potential and not res:\n",
    "                res = True\n",
    "                potential = False\n",
    "            else:\n",
    "                last = val\n",
    "                last_diff = diff\n",
    "    return(res)"
   ]
  },
  {
   "cell_type": "code",
   "execution_count": 13,
   "id": "1266bcb1-0266-4667-9701-49775f8b7825",
   "metadata": {},
   "outputs": [
    {
     "name": "stdout",
     "output_type": "stream",
     "text": [
      "366\n"
     ]
    }
   ],
   "source": [
    "with open('2.txt') as file:\n",
    "    ret = 0\n",
    "    for line in file:\n",
    "        int_list = [int(i) for i in line.split()]\n",
    "        if valid(int_list) == True:\n",
    "            ret += 1\n",
    "        else:\n",
    "            int_list.reverse()\n",
    "            if valid(int_list) == True:\n",
    "                ret += 1\n",
    "    # Correct answer\n",
    "    print(ret)"
   ]
  },
  {
   "cell_type": "code",
   "execution_count": null,
   "id": "92ef6366-0218-4cb0-9083-65f7e9a0086b",
   "metadata": {},
   "outputs": [],
   "source": []
  }
 ],
 "metadata": {
  "kernelspec": {
   "display_name": "Python 3 (ipykernel)",
   "language": "python",
   "name": "python3"
  },
  "language_info": {
   "codemirror_mode": {
    "name": "ipython",
    "version": 3
   },
   "file_extension": ".py",
   "mimetype": "text/x-python",
   "name": "python",
   "nbconvert_exporter": "python",
   "pygments_lexer": "ipython3",
   "version": "3.10.12"
  }
 },
 "nbformat": 4,
 "nbformat_minor": 5
}
